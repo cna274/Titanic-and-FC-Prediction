{
 "cells": [
  {
   "cell_type": "code",
   "execution_count": 58,
   "metadata": {
    "collapsed": false
   },
   "outputs": [],
   "source": [
    "import pandas as pd\n",
    "\n",
    "train_data = pd.read_csv('C:/Users/Srinivas/Desktop/Forest Cover Type Prediction/train.csv')\n",
    "#train_data.head()"
   ]
  },
  {
   "cell_type": "code",
   "execution_count": null,
   "metadata": {
    "collapsed": false
   },
   "outputs": [],
   "source": [
    "labels = train_data['Cover_Type']\n",
    "\n",
    "train_data.drop(['Cover_Type'],axis=1)\n",
    "\n",
    "train_data.drop('Id',axis = 1)"
   ]
  },
  {
   "cell_type": "code",
   "execution_count": 68,
   "metadata": {
    "collapsed": false
   },
   "outputs": [
    {
     "data": {
      "text/plain": [
       "Index([u'Id', u'Elevation', u'Aspect', u'Slope',\n",
       "       u'Horizontal_Distance_To_Hydrology', u'Vertical_Distance_To_Hydrology',\n",
       "       u'Horizontal_Distance_To_Roadways', u'Hillshade_9am', u'Hillshade_Noon',\n",
       "       u'Hillshade_3pm', u'Horizontal_Distance_To_Fire_Points',\n",
       "       u'Wilderness_Area1', u'Wilderness_Area2', u'Wilderness_Area3',\n",
       "       u'Wilderness_Area4', u'Soil_Type1', u'Soil_Type2', u'Soil_Type3',\n",
       "       u'Soil_Type4', u'Soil_Type5'],\n",
       "      dtype='object')"
      ]
     },
     "execution_count": 68,
     "metadata": {},
     "output_type": "execute_result"
    }
   ],
   "source": [
    "train_data.columns[:20]"
   ]
  },
  {
   "cell_type": "code",
   "execution_count": 61,
   "metadata": {
    "collapsed": true
   },
   "outputs": [],
   "source": [
    "import numpy as np"
   ]
  },
  {
   "cell_type": "code",
   "execution_count": 62,
   "metadata": {
    "collapsed": true
   },
   "outputs": [],
   "source": [
    "def noralize(columns):\n",
    "    return (columns - np.mean(columns))/np.std(columns)"
   ]
  },
  {
   "cell_type": "code",
   "execution_count": null,
   "metadata": {
    "collapsed": true
   },
   "outputs": [],
   "source": [
    "train_data.Elevation = noralize(train_data.Elevation)"
   ]
  },
  {
   "cell_type": "code",
   "execution_count": 69,
   "metadata": {
    "collapsed": true
   },
   "outputs": [],
   "source": [
    "train_data.Elevation = noralize(train_data.Elevation)\n",
    "train_data.Aspect = noralize(train_data.Aspect)\n",
    "train_data.Slope = noralize(train_data.Slope)\n",
    "train_data.Horizontal_Distance_To_Hydrology = noralize(train_data.Horizontal_Distance_To_Hydrology)\n",
    "train_data.Vertical_Distance_To_Hydrology = noralize(train_data.Vertical_Distance_To_Hydrology)\n",
    "train_data.Horizontal_Distance_To_Roadways = noralize(train_data.Horizontal_Distance_To_Roadways)\n",
    "train_data.Hillshade_9am = noralize(train_data.Hillshade_9am)\n",
    "train_data.Hillshade_3pm = noralize(train_data.Hillshade_3pm)\n",
    "train_data.Hillshade_Noon = noralize(train_data.Hillshade_Noon)"
   ]
  },
  {
   "cell_type": "code",
   "execution_count": 70,
   "metadata": {
    "collapsed": false
   },
   "outputs": [],
   "source": [
    "from sklearn.ensemble import RandomForestClassifier\n",
    "#from sklearn.cross_validation import train_test_split\n",
    "\n",
    "forest = RandomForestClassifier(n_estimators = 200,max_features='sqrt')\n",
    "\n",
    "#train_data, test_data, train_label, test_label = train_test_split(train_data.values,labels)"
   ]
  },
  {
   "cell_type": "code",
   "execution_count": null,
   "metadata": {
    "collapsed": false
   },
   "outputs": [],
   "source": [
    "#from sklearn.feature_selection import SelectKBest\n",
    "#from sklearn.feature_selection import chi2\n",
    "\n",
    "#forest = forest.fit(train_data,train_label)\n",
    "\n",
    "#new_data = SelectKBest(k = 50).fit_transform(train_data, train_label)\n",
    "#new_test_data = SelectKBest(k=50).fit_transform(test_data,test_label)\n",
    "#X = model.transform(train_data)\n",
    "#output = forest.predict(test_data)\n",
    "\n",
    "#forest = forest.fit(X,train_label)\n",
    "\n",
    "#X_test = model.transform(test_data)"
   ]
  },
  {
   "cell_type": "markdown",
   "metadata": {},
   "source": [
    "from sklearn.decomposition import PCA\n",
    "#new_data = forest.fit_transform(train_data,train_label,'median')\n",
    "pca = PCA(n_components = 12)\n",
    "pca.fit(train_data)\n",
    "new_data = pca.transform(train_data)\n",
    "new_test_data = pca.transform(test_data)\n",
    "####new_data = forest.transform(train_data,'median')\n",
    "#new_test_data = forest.transform(test_data,'median')"
   ]
  },
  {
   "cell_type": "code",
   "execution_count": null,
   "metadata": {
    "collapsed": false
   },
   "outputs": [],
   "source": [
    "train_data[train_data.columns[1:55]]"
   ]
  },
  {
   "cell_type": "code",
   "execution_count": 76,
   "metadata": {
    "collapsed": false
   },
   "outputs": [],
   "source": [
    "forest = forest.fit(train_data[train_data.columns[1:55]],labels)"
   ]
  },
  {
   "cell_type": "markdown",
   "metadata": {},
   "source": [
    "#out = forest.predict(test_data)"
   ]
  },
  {
   "cell_type": "markdown",
   "metadata": {},
   "source": [
    "#forest.feature_importances_"
   ]
  },
  {
   "cell_type": "markdown",
   "metadata": {},
   "source": [
    "#new_test_data = SelectKBest(k=20).fit_transform(test_data,test_label)"
   ]
  },
  {
   "cell_type": "code",
   "execution_count": null,
   "metadata": {
    "collapsed": false
   },
   "outputs": [],
   "source": [
    "forest.score(test_data,test_label)"
   ]
  },
  {
   "cell_type": "code",
   "execution_count": 77,
   "metadata": {
    "collapsed": true
   },
   "outputs": [],
   "source": [
    "df = pd.read_csv('C:/Users/Srinivas/Desktop/Forest Cover Type Prediction/test.csv')"
   ]
  },
  {
   "cell_type": "code",
   "execution_count": null,
   "metadata": {
    "collapsed": true
   },
   "outputs": [],
   "source": [
    "ids = df['Id']"
   ]
  },
  {
   "cell_type": "code",
   "execution_count": null,
   "metadata": {
    "collapsed": false
   },
   "outputs": [],
   "source": [
    "df = df.drop(['Id'],axis = 1)"
   ]
  },
  {
   "cell_type": "code",
   "execution_count": null,
   "metadata": {
    "collapsed": false
   },
   "outputs": [],
   "source": [
    "#testing_data = pca.transform(df.values)"
   ]
  },
  {
   "cell_type": "code",
   "execution_count": 78,
   "metadata": {
    "collapsed": false
   },
   "outputs": [
    {
     "data": {
      "text/plain": [
       "(565892, 55)"
      ]
     },
     "execution_count": 78,
     "metadata": {},
     "output_type": "execute_result"
    }
   ],
   "source": [
    "import numpy as np\n",
    "np.shape(df)"
   ]
  },
  {
   "cell_type": "code",
   "execution_count": 84,
   "metadata": {
    "collapsed": false
   },
   "outputs": [
    {
     "data": {
      "text/plain": [
       "Index([u'Id', u'Elevation', u'Aspect', u'Slope',\n",
       "       u'Horizontal_Distance_To_Hydrology', u'Vertical_Distance_To_Hydrology',\n",
       "       u'Horizontal_Distance_To_Roadways', u'Hillshade_9am', u'Hillshade_Noon',\n",
       "       u'Hillshade_3pm', u'Horizontal_Distance_To_Fire_Points',\n",
       "       u'Wilderness_Area1', u'Wilderness_Area2', u'Wilderness_Area3',\n",
       "       u'Wilderness_Area4', u'Soil_Type1', u'Soil_Type2', u'Soil_Type3',\n",
       "       u'Soil_Type4', u'Soil_Type5', u'Soil_Type6', u'Soil_Type7',\n",
       "       u'Soil_Type8', u'Soil_Type9', u'Soil_Type10', u'Soil_Type11',\n",
       "       u'Soil_Type12', u'Soil_Type13', u'Soil_Type14', u'Soil_Type15',\n",
       "       u'Soil_Type16', u'Soil_Type17', u'Soil_Type18', u'Soil_Type19',\n",
       "       u'Soil_Type20', u'Soil_Type21', u'Soil_Type22', u'Soil_Type23',\n",
       "       u'Soil_Type24', u'Soil_Type25', u'Soil_Type26', u'Soil_Type27',\n",
       "       u'Soil_Type28', u'Soil_Type29', u'Soil_Type30', u'Soil_Type31',\n",
       "       u'Soil_Type32', u'Soil_Type33', u'Soil_Type34', u'Soil_Type35',\n",
       "       u'Soil_Type36', u'Soil_Type37', u'Soil_Type38', u'Soil_Type39',\n",
       "       u'Soil_Type40'],\n",
       "      dtype='object')"
      ]
     },
     "execution_count": 84,
     "metadata": {},
     "output_type": "execute_result"
    }
   ],
   "source": [
    "df.columns[:55]"
   ]
  },
  {
   "cell_type": "code",
   "execution_count": null,
   "metadata": {
    "collapsed": false
   },
   "outputs": [],
   "source": [
    "output = forest.predict(df[df.columns[1:55]])"
   ]
  },
  {
   "cell_type": "code",
   "execution_count": null,
   "metadata": {
    "collapsed": false
   },
   "outputs": [],
   "source": []
  },
  {
   "cell_type": "code",
   "execution_count": null,
   "metadata": {
    "collapsed": true
   },
   "outputs": [],
   "source": [
    "import numpy as np\n",
    "\n",
    "answer = np.concatenate((output,output_1),axis = 0)\n",
    "\n",
    "result = np.vstack((ids,answer))\n",
    "\n",
    "np.savetxt('submission_1.csv',result.T,fmt='%d',header= 'Id,Cover_Type',delimiter=',')"
   ]
  }
 ],
 "metadata": {
  "kernelspec": {
   "display_name": "Python 2",
   "language": "python",
   "name": "python2"
  },
  "language_info": {
   "codemirror_mode": {
    "name": "ipython",
    "version": 2
   },
   "file_extension": ".py",
   "mimetype": "text/x-python",
   "name": "python",
   "nbconvert_exporter": "python",
   "pygments_lexer": "ipython2",
   "version": "2.7.12"
  }
 },
 "nbformat": 4,
 "nbformat_minor": 0
}
